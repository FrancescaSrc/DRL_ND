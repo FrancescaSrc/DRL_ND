{
 "cells": [
  {
   "cell_type": "markdown",
   "metadata": {},
   "source": [
    "# Continuous Control\n",
    "\n",
    "---\n",
    "\n",
    "You are welcome to use this coding environment to train your agent for the project.  Follow the instructions below to get started!\n",
    "\n",
    "### 1. Start the Environment\n",
    "\n",
    "Run the next code cell to install a few packages.  This line will take a few minutes to run!"
   ]
  },
  {
   "cell_type": "code",
   "execution_count": 1,
   "metadata": {},
   "outputs": [
    {
     "name": "stdout",
     "output_type": "stream",
     "text": [
      "\u001b[31mtensorflow 1.7.1 has requirement numpy>=1.13.3, but you'll have numpy 1.12.1 which is incompatible.\u001b[0m\r\n",
      "\u001b[31mipython 6.5.0 has requirement prompt-toolkit<2.0.0,>=1.0.15, but you'll have prompt-toolkit 2.0.10 which is incompatible.\u001b[0m\r\n"
     ]
    }
   ],
   "source": [
    "!pip -q install ./python"
   ]
  },
  {
   "cell_type": "markdown",
   "metadata": {},
   "source": [
    "The environments corresponding to both versions of the environment are already saved in the Workspace and can be accessed at the file paths provided below.  \n",
    "\n",
    "Please select one of the two options below for loading the environment."
   ]
  },
  {
   "cell_type": "code",
   "execution_count": 4,
   "metadata": {},
   "outputs": [],
   "source": [
    "import matplotlib.pyplot as plt\n",
    "%matplotlib inline\n",
    "\n",
    "import numpy as np\n",
    "import random\n",
    "import time\n",
    "import torch\n",
    "\n",
    "from collections import deque\n",
    "from ddpg_agent import Agent\n",
    "from unityagents import UnityEnvironment"
   ]
  },
  {
   "cell_type": "code",
   "execution_count": 3,
   "metadata": {},
   "outputs": [],
   "source": [
    "SEED = 9 "
   ]
  },
  {
   "cell_type": "code",
   "execution_count": 4,
   "metadata": {},
   "outputs": [
    {
     "name": "stderr",
     "output_type": "stream",
     "text": [
      "INFO:unityagents:\n",
      "'Academy' started successfully!\n",
      "Unity Academy name: Academy\n",
      "        Number of Brains: 1\n",
      "        Number of External Brains : 1\n",
      "        Lesson number : 0\n",
      "        Reset Parameters :\n",
      "\t\tgoal_speed -> 1.0\n",
      "\t\tgoal_size -> 5.0\n",
      "Unity brain name: ReacherBrain\n",
      "        Number of Visual Observations (per agent): 0\n",
      "        Vector Observation space type: continuous\n",
      "        Vector Observation space size (per agent): 33\n",
      "        Number of stacked Vector Observation: 1\n",
      "        Vector Action space type: continuous\n",
      "        Vector Action space size (per agent): 4\n",
      "        Vector Action descriptions: , , , \n"
     ]
    }
   ],
   "source": [
    "\n",
    "# select this option to load version 1 (with a single agent) of the environment\n",
    "#env = UnityEnvironment(file_name='/data/Reacher_One_Linux_NoVis/Reacher_One_Linux_NoVis.x86_64')\n",
    "\n",
    "# select this option to load version 2 (with 20 agents) of the environment\n",
    "env = UnityEnvironment(file_name='/data/Reacher_Linux_NoVis/Reacher.x86_64')"
   ]
  },
  {
   "cell_type": "markdown",
   "metadata": {},
   "source": [
    "Environments contain **_brains_** which are responsible for deciding the actions of their associated agents. Here we check for the first brain available, and set it as the default brain we will be controlling from Python."
   ]
  },
  {
   "cell_type": "code",
   "execution_count": 13,
   "metadata": {},
   "outputs": [],
   "source": [
    "# get the default brain\n",
    "brain_name = env.brain_names[0]\n",
    "brain = env.brains[brain_name]"
   ]
  },
  {
   "cell_type": "markdown",
   "metadata": {},
   "source": [
    "### 2. Examine the State and Action Spaces\n",
    "\n",
    "Run the code cell below to print some information about the environment."
   ]
  },
  {
   "cell_type": "code",
   "execution_count": 14,
   "metadata": {
    "scrolled": true
   },
   "outputs": [
    {
     "name": "stdout",
     "output_type": "stream",
     "text": [
      "Number of agents: 20\n",
      "Size of each action: 4\n",
      "There are 20 agents. Each observes a state with length: 33\n",
      "The state for the first agent looks like: [  0.00000000e+00  -4.00000000e+00   0.00000000e+00   1.00000000e+00\n",
      "  -0.00000000e+00  -0.00000000e+00  -4.37113883e-08   0.00000000e+00\n",
      "   0.00000000e+00   0.00000000e+00   0.00000000e+00   0.00000000e+00\n",
      "   0.00000000e+00   0.00000000e+00  -1.00000000e+01   0.00000000e+00\n",
      "   1.00000000e+00  -0.00000000e+00  -0.00000000e+00  -4.37113883e-08\n",
      "   0.00000000e+00   0.00000000e+00   0.00000000e+00   0.00000000e+00\n",
      "   0.00000000e+00   0.00000000e+00  -4.12030411e+00  -1.00000000e+00\n",
      "  -6.85733795e+00   0.00000000e+00   1.00000000e+00   0.00000000e+00\n",
      "   2.10308194e-01]\n"
     ]
    }
   ],
   "source": [
    "# reset the environment\n",
    "env_info = env.reset(train_mode=True)[brain_name]\n",
    "\n",
    "# number of agents\n",
    "num_agents = len(env_info.agents)\n",
    "print('Number of agents:', num_agents)\n",
    "\n",
    "# size of each action\n",
    "action_size = brain.vector_action_space_size\n",
    "print('Size of each action:', action_size)\n",
    "\n",
    "# examine the state space \n",
    "states = env_info.vector_observations\n",
    "state_size = states.shape[1]\n",
    "print('There are {} agents. Each observes a state with length: {}'.format(states.shape[0], state_size))\n",
    "print('The state for the first agent looks like:', states[0])"
   ]
  },
  {
   "cell_type": "markdown",
   "metadata": {},
   "source": [
    "### 3. Take Random Actions in the Environment\n",
    "\n",
    "In the next code cell, you will learn how to use the Python API to control the agent and receive feedback from the environment.\n",
    "\n",
    "Note that **in this coding environment, you will not be able to watch the agents while they are training**, and you should set `train_mode=True` to restart the environment."
   ]
  },
  {
   "cell_type": "code",
   "execution_count": 7,
   "metadata": {},
   "outputs": [
    {
     "name": "stdout",
     "output_type": "stream",
     "text": [
      "Total score (averaged over agents) this episode: 0.11999999731779099\n"
     ]
    }
   ],
   "source": [
    "env_info = env.reset(train_mode=True)[brain_name]      # reset the environment    \n",
    "states = env_info.vector_observations                  # get the current state (for each agent)\n",
    "scores = np.zeros(num_agents)                          # initialize the score (for each agent)\n",
    "while True:\n",
    "    actions = np.random.randn(num_agents, action_size) # select an action (for each agent)\n",
    "    actions = np.clip(actions, -1, 1)                  # all actions between -1 and 1\n",
    "    env_info = env.step(actions)[brain_name]           # send all actions to tne environment\n",
    "    next_states = env_info.vector_observations         # get next state (for each agent)\n",
    "    rewards = env_info.rewards                         # get reward (for each agent)\n",
    "    dones = env_info.local_done                        # see if episode finished\n",
    "    scores += env_info.rewards                         # update the score (for each agent)\n",
    "    states = next_states                               # roll over states to next time step\n",
    "    if np.any(dones):                                  # exit loop if episode finished\n",
    "        break\n",
    "print('Total score (averaged over agents) this episode: {}'.format(np.mean(scores)))"
   ]
  },
  {
   "cell_type": "markdown",
   "metadata": {},
   "source": [
    "When finished, you can close the environment."
   ]
  },
  {
   "cell_type": "code",
   "execution_count": 8,
   "metadata": {},
   "outputs": [],
   "source": [
    "#env.close()"
   ]
  },
  {
   "cell_type": "markdown",
   "metadata": {},
   "source": [
    "### 4. It's Your Turn!\n",
    "\n",
    "Now it's your turn to train your own agent to solve the environment!  A few **important notes**:\n",
    "- When training the environment, set `train_mode=True`, so that the line for resetting the environment looks like the following:\n",
    "```python\n",
    "env_info = env.reset(train_mode=True)[brain_name]\n",
    "```\n",
    "- To structure your work, you're welcome to work directly in this Jupyter notebook, or you might like to start over with a new file!  You can see the list of files in the workspace by clicking on **_Jupyter_** in the top left corner of the notebook.\n",
    "- In this coding environment, you will not be able to watch the agents while they are training.  However, **_after training the agents_**, you can download the saved model weights to watch the agents on your own machine! "
   ]
  },
  {
   "cell_type": "code",
   "execution_count": 8,
   "metadata": {},
   "outputs": [],
   "source": [
    "# DDPG function, code from Udacity\n",
    "\n",
    "from collections import deque\n",
    "import torch\n",
    "\n",
    "def ddpg(n_episodes=500, max_t=1000, print_every=1): # Enter max_t value\n",
    "    \"\"\"Deep Deterministic Policy Gradient (DDPG)\n",
    "    \n",
    "    Params\n",
    "    ======\n",
    "        n_episodes  (int)   : maximum number of training episodes\n",
    "        max_t       (int)   : maximum number of timesteps per episode\n",
    "        print_every (int)   : interval to display results\n",
    "\n",
    "    \"\"\"\n",
    "    mean_scores = []                               # list of mean scores from each episode\n",
    "    moving_avgs = []                               # list of moving averages\n",
    "    \n",
    "    scores_window = deque(maxlen=100)              # mean scores from most recent 100 episodes\n",
    "    \n",
    "    for i_episode in range(1, n_episodes+1):\n",
    "        chpt_critic= agent.critic_local.state_dict()\n",
    "        #reset environment\n",
    "        env_info = env.reset(train_mode=True)[brain_name]\n",
    "        #get current state for each agent  \n",
    "        states = env_info.vector_observations\n",
    "        # initialize score for each agent\n",
    "        scores = np.zeros(num_agents)                           \n",
    "        agent.reset()\n",
    "        start_time = time.time()\n",
    "        for t in range(max_t):\n",
    "             # select an action\n",
    "            actions = agent.act(states, add_noise=True)\n",
    "            #print('actions:', actions)\n",
    "            # send actions to environment\n",
    "            env_info = env.step(actions)[brain_name]            \n",
    "            # get next state\n",
    "            next_states = env_info.vector_observations\n",
    "            # get the reward\n",
    "            rewards = env_info.rewards\n",
    "            #check episode is finished\n",
    "            dones = env_info.local_done                          \n",
    "            # save experience to replay buffer, perform learning step at defined interval\n",
    "            for state, action, reward, next_state, done in zip(states, actions, rewards, next_states, dones):\n",
    "                agent.step(state, action, reward, next_state, done, t)             \n",
    "            states = next_states\n",
    "            # add scores\n",
    "            scores += rewards\n",
    "            #print(scores)\n",
    "            # exit loop when episode ends\n",
    "            if np.any(dones):                                   \n",
    "                break\n",
    "\n",
    "        duration = time.time() - start_time\n",
    "        mean_scores.append(np.mean(scores))           # save mean score for the episode\n",
    "        scores_window.append(mean_scores[-1])         # save mean score to window\n",
    "        moving_avgs.append(np.mean(scores_window))    # save moving average\n",
    "                \n",
    "        if i_episode % print_every == 0:\n",
    "            print('\\rEpisode {} ({}s)\\tMean: {:.1f}\\tMoving Avg: {:.1f}'.format(\\\n",
    "                  i_episode, round(duration), mean_scores[-1], moving_avgs[-1]))\n",
    "            \n",
    "                  \n",
    "        if moving_avgs[-1] >= 30.0 and i_episode >= 100:\n",
    "            print('\\nEnvironment solved in {:d} episodes!\\tAverage Score: {:.2f}'.format(i_episode-100, moving_avgs[-1]))\n",
    "            torch.save(agent.actor_local.state_dict(), 'checkpoint_actor.pth')\n",
    "            torch.save(agent.critic_local.state_dict(), 'checkpoint_critic.pth')\n",
    "            break\n",
    "            \n",
    "    return mean_scores, moving_avgs"
   ]
  },
  {
   "cell_type": "code",
   "execution_count": 9,
   "metadata": {},
   "outputs": [],
   "source": [
    "import time\n",
    "start = time.time()"
   ]
  },
  {
   "cell_type": "code",
   "execution_count": 7,
   "metadata": {},
   "outputs": [],
   "source": [
    "from ddpg_agent import Agent\n",
    "\n",
    "agent = Agent(state_size=state_size, action_size=action_size, random_seed=9, buffer_size=int(1e6), batch_size=256, tau=0.005, lr_actor=0.00078, lr_critic=0.00078, weight_decay=0)\n",
    "\n"
   ]
  },
  {
   "cell_type": "code",
   "execution_count": 10,
   "metadata": {},
   "outputs": [
    {
     "name": "stdout",
     "output_type": "stream",
     "text": [
      "Episode 1 (147s)\tMean: 0.7\tMoving Avg: 0.7\n",
      "Episode 2 (153s)\tMean: 2.1\tMoving Avg: 1.4\n",
      "Episode 3 (154s)\tMean: 2.0\tMoving Avg: 1.6\n",
      "Episode 4 (156s)\tMean: 2.1\tMoving Avg: 1.7\n",
      "Episode 5 (158s)\tMean: 2.7\tMoving Avg: 1.9\n",
      "Episode 6 (160s)\tMean: 2.7\tMoving Avg: 2.1\n",
      "Episode 7 (162s)\tMean: 4.4\tMoving Avg: 2.4\n",
      "Episode 8 (164s)\tMean: 5.4\tMoving Avg: 2.8\n",
      "Episode 9 (165s)\tMean: 5.9\tMoving Avg: 3.1\n",
      "Episode 10 (166s)\tMean: 6.6\tMoving Avg: 3.5\n",
      "Episode 11 (169s)\tMean: 7.2\tMoving Avg: 3.8\n",
      "Episode 12 (171s)\tMean: 6.8\tMoving Avg: 4.1\n",
      "Episode 13 (175s)\tMean: 7.8\tMoving Avg: 4.3\n",
      "Episode 14 (179s)\tMean: 9.1\tMoving Avg: 4.7\n",
      "Episode 15 (182s)\tMean: 10.4\tMoving Avg: 5.1\n",
      "Episode 16 (186s)\tMean: 10.7\tMoving Avg: 5.4\n",
      "Episode 17 (189s)\tMean: 11.8\tMoving Avg: 5.8\n",
      "Episode 18 (194s)\tMean: 11.1\tMoving Avg: 6.1\n",
      "Episode 19 (197s)\tMean: 12.3\tMoving Avg: 6.4\n",
      "Episode 20 (202s)\tMean: 11.5\tMoving Avg: 6.7\n",
      "Episode 21 (206s)\tMean: 14.1\tMoving Avg: 7.0\n",
      "Episode 22 (210s)\tMean: 13.1\tMoving Avg: 7.3\n",
      "Episode 23 (215s)\tMean: 13.2\tMoving Avg: 7.6\n",
      "Episode 24 (220s)\tMean: 13.0\tMoving Avg: 7.8\n",
      "Episode 25 (224s)\tMean: 14.0\tMoving Avg: 8.0\n",
      "Episode 26 (229s)\tMean: 14.9\tMoving Avg: 8.3\n",
      "Episode 27 (236s)\tMean: 16.7\tMoving Avg: 8.6\n",
      "Episode 28 (242s)\tMean: 18.0\tMoving Avg: 8.9\n",
      "Episode 29 (247s)\tMean: 20.0\tMoving Avg: 9.3\n",
      "Episode 30 (251s)\tMean: 17.6\tMoving Avg: 9.6\n",
      "Episode 31 (256s)\tMean: 18.4\tMoving Avg: 9.9\n",
      "Episode 32 (261s)\tMean: 21.3\tMoving Avg: 10.2\n",
      "Episode 33 (266s)\tMean: 23.1\tMoving Avg: 10.6\n",
      "Episode 34 (271s)\tMean: 23.1\tMoving Avg: 11.0\n",
      "Episode 35 (276s)\tMean: 26.0\tMoving Avg: 11.4\n",
      "Episode 36 (281s)\tMean: 26.4\tMoving Avg: 11.8\n",
      "Episode 37 (286s)\tMean: 28.0\tMoving Avg: 12.3\n",
      "Episode 38 (290s)\tMean: 29.1\tMoving Avg: 12.7\n",
      "Episode 39 (295s)\tMean: 28.9\tMoving Avg: 13.1\n",
      "Episode 40 (301s)\tMean: 30.5\tMoving Avg: 13.6\n",
      "Episode 41 (306s)\tMean: 30.3\tMoving Avg: 14.0\n",
      "Episode 42 (311s)\tMean: 32.1\tMoving Avg: 14.4\n",
      "Episode 43 (317s)\tMean: 30.8\tMoving Avg: 14.8\n",
      "Episode 44 (322s)\tMean: 31.4\tMoving Avg: 15.2\n",
      "Episode 45 (327s)\tMean: 31.3\tMoving Avg: 15.5\n",
      "Episode 46 (332s)\tMean: 32.2\tMoving Avg: 15.9\n",
      "Episode 47 (337s)\tMean: 32.8\tMoving Avg: 16.3\n",
      "Episode 48 (341s)\tMean: 31.9\tMoving Avg: 16.6\n",
      "Episode 49 (348s)\tMean: 33.4\tMoving Avg: 16.9\n",
      "Episode 50 (353s)\tMean: 33.6\tMoving Avg: 17.3\n",
      "Episode 51 (355s)\tMean: 34.3\tMoving Avg: 17.6\n",
      "Episode 52 (354s)\tMean: 35.2\tMoving Avg: 17.9\n",
      "Episode 53 (354s)\tMean: 35.8\tMoving Avg: 18.3\n",
      "Episode 54 (357s)\tMean: 34.9\tMoving Avg: 18.6\n",
      "Episode 55 (356s)\tMean: 35.4\tMoving Avg: 18.9\n",
      "Episode 56 (357s)\tMean: 34.7\tMoving Avg: 19.2\n",
      "Episode 57 (356s)\tMean: 37.2\tMoving Avg: 19.5\n",
      "Episode 58 (357s)\tMean: 36.5\tMoving Avg: 19.8\n",
      "Episode 59 (357s)\tMean: 37.7\tMoving Avg: 20.1\n",
      "Episode 60 (357s)\tMean: 37.6\tMoving Avg: 20.4\n",
      "Episode 61 (357s)\tMean: 37.5\tMoving Avg: 20.6\n",
      "Episode 62 (356s)\tMean: 37.1\tMoving Avg: 20.9\n",
      "Episode 63 (357s)\tMean: 36.8\tMoving Avg: 21.2\n",
      "Episode 64 (355s)\tMean: 37.5\tMoving Avg: 21.4\n",
      "Episode 65 (357s)\tMean: 37.8\tMoving Avg: 21.7\n",
      "Episode 66 (357s)\tMean: 37.3\tMoving Avg: 21.9\n",
      "Episode 67 (357s)\tMean: 38.6\tMoving Avg: 22.2\n",
      "Episode 68 (357s)\tMean: 37.0\tMoving Avg: 22.4\n",
      "Episode 69 (356s)\tMean: 37.6\tMoving Avg: 22.6\n",
      "Episode 70 (358s)\tMean: 37.5\tMoving Avg: 22.8\n",
      "Episode 71 (356s)\tMean: 37.2\tMoving Avg: 23.0\n",
      "Episode 72 (357s)\tMean: 38.2\tMoving Avg: 23.2\n",
      "Episode 73 (357s)\tMean: 38.0\tMoving Avg: 23.4\n",
      "Episode 74 (357s)\tMean: 38.0\tMoving Avg: 23.6\n",
      "Episode 75 (357s)\tMean: 38.0\tMoving Avg: 23.8\n",
      "Episode 76 (357s)\tMean: 38.3\tMoving Avg: 24.0\n",
      "Episode 77 (357s)\tMean: 38.7\tMoving Avg: 24.2\n",
      "Episode 78 (356s)\tMean: 38.5\tMoving Avg: 24.4\n",
      "Episode 79 (356s)\tMean: 37.3\tMoving Avg: 24.5\n",
      "Episode 80 (356s)\tMean: 37.3\tMoving Avg: 24.7\n",
      "Episode 81 (357s)\tMean: 34.1\tMoving Avg: 24.8\n",
      "Episode 82 (357s)\tMean: 26.5\tMoving Avg: 24.8\n",
      "Episode 83 (357s)\tMean: 34.1\tMoving Avg: 24.9\n",
      "Episode 84 (357s)\tMean: 37.6\tMoving Avg: 25.1\n",
      "Episode 85 (357s)\tMean: 38.8\tMoving Avg: 25.3\n",
      "Episode 86 (357s)\tMean: 38.9\tMoving Avg: 25.4\n",
      "Episode 87 (358s)\tMean: 37.8\tMoving Avg: 25.6\n",
      "Episode 88 (358s)\tMean: 38.6\tMoving Avg: 25.7\n",
      "Episode 89 (358s)\tMean: 38.7\tMoving Avg: 25.9\n",
      "Episode 90 (358s)\tMean: 37.0\tMoving Avg: 26.0\n",
      "Episode 91 (357s)\tMean: 38.7\tMoving Avg: 26.1\n",
      "Episode 92 (358s)\tMean: 38.7\tMoving Avg: 26.3\n",
      "Episode 93 (358s)\tMean: 39.0\tMoving Avg: 26.4\n",
      "Episode 94 (358s)\tMean: 39.1\tMoving Avg: 26.5\n",
      "Episode 95 (358s)\tMean: 39.0\tMoving Avg: 26.7\n",
      "Episode 96 (357s)\tMean: 34.5\tMoving Avg: 26.7\n",
      "Episode 97 (356s)\tMean: 37.3\tMoving Avg: 26.8\n",
      "Episode 98 (358s)\tMean: 37.4\tMoving Avg: 27.0\n",
      "Episode 99 (357s)\tMean: 37.2\tMoving Avg: 27.1\n",
      "Episode 100 (358s)\tMean: 37.9\tMoving Avg: 27.2\n",
      "Episode 101 (357s)\tMean: 37.2\tMoving Avg: 27.5\n",
      "Episode 102 (358s)\tMean: 38.0\tMoving Avg: 27.9\n",
      "Episode 103 (358s)\tMean: 37.7\tMoving Avg: 28.2\n",
      "Episode 104 (358s)\tMean: 37.6\tMoving Avg: 28.6\n",
      "Episode 105 (358s)\tMean: 38.3\tMoving Avg: 29.0\n",
      "Episode 106 (358s)\tMean: 37.6\tMoving Avg: 29.3\n",
      "Episode 107 (358s)\tMean: 38.8\tMoving Avg: 29.7\n",
      "Episode 108 (359s)\tMean: 38.8\tMoving Avg: 30.0\n",
      "Episode 109 (358s)\tMean: 38.5\tMoving Avg: 30.3\n",
      "\n",
      "Environment solved in 9 episodes!\tAverage Score: 30.31\n"
     ]
    }
   ],
   "source": [
    "from workspace_utils import active_session\n",
    "\n",
    "with active_session():\n",
    "    scores, avgs = ddpg()"
   ]
  },
  {
   "cell_type": "code",
   "execution_count": 11,
   "metadata": {},
   "outputs": [],
   "source": [
    "torch.save(agent.actor_local.state_dict(), 'checkpoint_actor3.pth')\n",
    "torch.save(agent.critic_local.state_dict(), 'checkpoint_critic3.pth')"
   ]
  },
  {
   "cell_type": "code",
   "execution_count": 12,
   "metadata": {},
   "outputs": [
    {
     "data": {
      "image/png": "[encoded data removed]",
      "text/plain": [
       "<matplotlib.figure.Figure at 0x7f8bc3366828>"
      ]
     },
     "metadata": {
      "needs_background": "light"
     },
     "output_type": "display_data"
    }
   ],
   "source": [
    "import matplotlib.pyplot as plt\n",
    "%matplotlib inline\n",
    "# plot the scores\n",
    "fig = plt.figure()\n",
    "ax = fig.add_subplot(111)\n",
    "plt.plot(np.arange(len(scores)), scores, label='DDPG')\n",
    "plt.plot(np.arange(len(scores)), avgs, c='r', label='Moving AVG')\n",
    "plt.ylabel('Score')\n",
    "plt.xlabel('Episode #')\n",
    "plt.legend(loc='upper left');\n",
    "plt.show()"
   ]
  },
  {
   "cell_type": "markdown",
   "metadata": {},
   "source": [
    "## Testing the agent"
   ]
  },
  {
   "cell_type": "code",
   "execution_count": 5,
   "metadata": {},
   "outputs": [
    {
     "name": "stderr",
     "output_type": "stream",
     "text": [
      "INFO:unityagents:\n",
      "'Academy' started successfully!\n",
      "Unity Academy name: Academy\n",
      "        Number of Brains: 1\n",
      "        Number of External Brains : 1\n",
      "        Lesson number : 0\n",
      "        Reset Parameters :\n",
      "\t\tgoal_speed -> 1.0\n",
      "\t\tgoal_size -> 5.0\n",
      "Unity brain name: ReacherBrain\n",
      "        Number of Visual Observations (per agent): 0\n",
      "        Vector Observation space type: continuous\n",
      "        Vector Observation space size (per agent): 33\n",
      "        Number of stacked Vector Observation: 1\n",
      "        Vector Action space type: continuous\n",
      "        Vector Action space size (per agent): 4\n",
      "        Vector Action descriptions: , , , \n"
     ]
    }
   ],
   "source": [
    "env = UnityEnvironment(file_name='/data/Reacher_Linux_NoVis/Reacher.x86_64')\n"
   ]
  },
  {
   "cell_type": "code",
   "execution_count": 6,
   "metadata": {},
   "outputs": [],
   "source": [
    "# get the default brain\n",
    "brain_name = env.brain_names[0]\n",
    "brain = env.brains[brain_name]\n",
    "# reset the environment\n",
    "env_info = env.reset(train_mode=False)[brain_name]\n",
    "\n",
    "# number of agents\n",
    "num_agents = len(env_info.agents)\n",
    "\n",
    "# size of each action\n",
    "action_size = brain.vector_action_space_size\n",
    "\n",
    "# examine the state space \n",
    "states = env_info.vector_observations\n",
    "state_size = states.shape[1]\n",
    "\n"
   ]
  },
  {
   "cell_type": "code",
   "execution_count": 7,
   "metadata": {},
   "outputs": [],
   "source": [
    "from ddpg_agent import Agent\n",
    "agent = Agent(state_size=state_size, action_size=action_size, random_seed=9, buffer_size=int(1e6), batch_size=256, tau=0.005, lr_actor=0.00078, lr_critic=0.00078, weight_decay=0)\n"
   ]
  },
  {
   "cell_type": "code",
   "execution_count": 12,
   "metadata": {},
   "outputs": [
    {
     "name": "stdout",
     "output_type": "stream",
     "text": [
      "Average score of test: 0.3199999928474426\n"
     ]
    }
   ],
   "source": [
    "agent.actor_local.load_state_dict(torch.load('checkpoint_actor3.pth',map_location='cpu'))\n",
    "agent.critic_local.load_state_dict(torch.load('checkpoint_critic3.pth',map_location='cpu'))\n",
    "\n",
    "env_info = env.reset(train_mode=False)[brain_name]\n",
    "state = env_info.vector_observations\n",
    "agent.reset()  \n",
    "score = np.zeros(num_agents)\n",
    "while True:\n",
    "    actions = agent.act(states, add_noise=False)\n",
    "    env_info = env.step(actions)[brain_name]\n",
    "    next_state = env_info.vector_observations   # get the next state\n",
    "    reward = env_info.rewards                   # get the reward\n",
    "    done = env_info.local_done                  # see if episode has finished\n",
    "    state = next_state\n",
    "    score += reward\n",
    "    if np.any(done):\n",
    "        break\n",
    "        \n",
    "print(\"Average score of test: {}\".format(np.mean(score)))"
   ]
  },
  {
   "cell_type": "code",
   "execution_count": 15,
   "metadata": {},
   "outputs": [],
   "source": [
    "env.close()"
   ]
  },
  {
   "cell_type": "code",
   "execution_count": null,
   "metadata": {},
   "outputs": [],
   "source": []
  }
 ],
 "metadata": {
  "kernelspec": {
   "display_name": "Python 3",
   "language": "python",
   "name": "python3"
  },
  "language_info": {
   "codemirror_mode": {
    "name": "ipython",
    "version": 3
   },
   "file_extension": ".py",
   "mimetype": "text/x-python",
   "name": "python",
   "nbconvert_exporter": "python",
   "pygments_lexer": "ipython3",
   "version": "3.6.3"
  }
 },
 "nbformat": 4,
 "nbformat_minor": 2
}
